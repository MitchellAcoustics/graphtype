{
 "cells": [
  {
   "cell_type": "markdown",
   "metadata": {},
   "source": [
    "# Typing NetworkX Graph Attributes"
   ]
  },
  {
   "cell_type": "code",
   "execution_count": 10,
   "metadata": {},
   "outputs": [],
   "source": [
    "import networkx as nx\n",
    "import pandas as pd\n",
    "import numpy as np\n",
    "from graphtype import Graph, GraphData, NodeData, EdgeData, validate"
   ]
  },
  {
   "cell_type": "code",
   "execution_count": 2,
   "metadata": {},
   "outputs": [
    {
     "name": "stdout",
     "output_type": "stream",
     "text": [
      "Graph with 0 nodes and 0 edges\n"
     ]
    }
   ],
   "source": [
    "@validate\n",
    "def func(g: Graph):\n",
    "    print(g)\n",
    "\n",
    "g = nx.Graph()\n",
    "func(g) # Our input is a graph so this checks out"
   ]
  },
  {
   "cell_type": "code",
   "execution_count": 3,
   "metadata": {},
   "outputs": [
    {
     "ename": "TypeError",
     "evalue": "this string is not a graph is not a nx.Graph",
     "output_type": "error",
     "traceback": [
      "\u001b[0;31m---------------------------------------------------------------------------\u001b[0m",
      "\u001b[0;31mTypeError\u001b[0m                                 Traceback (most recent call last)",
      "\u001b[1;32m/Users/arianjamasb/github/graphtype/example.ipynb Cell 4'\u001b[0m in \u001b[0;36m<cell line: 1>\u001b[0;34m()\u001b[0m\n\u001b[0;32m----> <a href='vscode-notebook-cell:/Users/arianjamasb/github/graphtype/example.ipynb#ch0000006?line=0'>1</a>\u001b[0m func(\u001b[39m\"\u001b[39;49m\u001b[39mthis string is not a graph\u001b[39;49m\u001b[39m\"\u001b[39;49m)\n",
      "File \u001b[0;32m~/github/graphtype/graphtype/__init__.py:28\u001b[0m, in \u001b[0;36mvalidate.<locals>.wrapper\u001b[0;34m(*args, **kwargs)\u001b[0m\n\u001b[1;32m     25\u001b[0m \u001b[39mif\u001b[39;00m argument_name \u001b[39min\u001b[39;00m hints \u001b[39mand\u001b[39;00m \u001b[39misinstance\u001b[39m(hint, DatasetMeta):\n\u001b[1;32m     27\u001b[0m     \u001b[39mif\u001b[39;00m \u001b[39mnot\u001b[39;00m \u001b[39misinstance\u001b[39m(value, nx\u001b[39m.\u001b[39mGraph):\n\u001b[0;32m---> 28\u001b[0m         \u001b[39mraise\u001b[39;00m \u001b[39mTypeError\u001b[39;00m(\u001b[39mf\u001b[39m\u001b[39m\"\u001b[39m\u001b[39m{\u001b[39;00mvalue\u001b[39m}\u001b[39;00m\u001b[39m is not a nx.Graph\u001b[39m\u001b[39m\"\u001b[39m)\n\u001b[1;32m     30\u001b[0m     \u001b[39mif\u001b[39;00m hint\u001b[39m.\u001b[39mgraph:\n\u001b[1;32m     31\u001b[0m         columns \u001b[39m=\u001b[39m value\u001b[39m.\u001b[39mgraph\n",
      "\u001b[0;31mTypeError\u001b[0m: this string is not a graph is not a nx.Graph"
     ]
    }
   ],
   "source": [
    "func(\"this string is not a graph\") # TypeError: 'this string is not a graph' is not a graph"
   ]
  },
  {
   "cell_type": "markdown",
   "metadata": {},
   "source": [
    "## Typing Graph Attributes"
   ]
  },
  {
   "cell_type": "code",
   "execution_count": 4,
   "metadata": {},
   "outputs": [
    {
     "ename": "TypeError",
     "evalue": "g graph attributes do not match required set {'feature2', 'feature1'}",
     "output_type": "error",
     "traceback": [
      "\u001b[0;31m---------------------------------------------------------------------------\u001b[0m",
      "\u001b[0;31mTypeError\u001b[0m                                 Traceback (most recent call last)",
      "\u001b[1;32m/Users/arianjamasb/github/graphtype/example.ipynb Cell 7'\u001b[0m in \u001b[0;36m<cell line: 6>\u001b[0;34m()\u001b[0m\n\u001b[1;32m      <a href='vscode-notebook-cell:/Users/arianjamasb/github/graphtype/example.ipynb#ch0000011?line=2'>3</a>\u001b[0m     \u001b[39mprint\u001b[39m(g)\n\u001b[1;32m      <a href='vscode-notebook-cell:/Users/arianjamasb/github/graphtype/example.ipynb#ch0000011?line=4'>5</a>\u001b[0m g \u001b[39m=\u001b[39m nx\u001b[39m.\u001b[39mGraph()\n\u001b[0;32m----> <a href='vscode-notebook-cell:/Users/arianjamasb/github/graphtype/example.ipynb#ch0000011?line=5'>6</a>\u001b[0m func(g)\n",
      "File \u001b[0;32m~/github/graphtype/graphtype/__init__.py:36\u001b[0m, in \u001b[0;36mvalidate.<locals>.wrapper\u001b[0;34m(*args, **kwargs)\u001b[0m\n\u001b[1;32m     31\u001b[0m columns \u001b[39m=\u001b[39m value\u001b[39m.\u001b[39mgraph\n\u001b[1;32m     32\u001b[0m \u001b[39mif\u001b[39;00m (\n\u001b[1;32m     33\u001b[0m     hint\u001b[39m.\u001b[39mgraph_only_specified\n\u001b[1;32m     34\u001b[0m     \u001b[39mand\u001b[39;00m columns\u001b[39m.\u001b[39mkeys() \u001b[39m!=\u001b[39m hint\u001b[39m.\u001b[39mgraph_columns\n\u001b[1;32m     35\u001b[0m ):\n\u001b[0;32m---> 36\u001b[0m     \u001b[39mraise\u001b[39;00m \u001b[39mTypeError\u001b[39;00m(\n\u001b[1;32m     37\u001b[0m         \u001b[39mf\u001b[39m\u001b[39m\"\u001b[39m\u001b[39m{\u001b[39;00margument_name\u001b[39m}\u001b[39;00m\u001b[39m graph attributes do not match required set \u001b[39m\u001b[39m{\u001b[39;00mhint\u001b[39m.\u001b[39mgraph_columns\u001b[39m}\u001b[39;00m\u001b[39m\"\u001b[39m\n\u001b[1;32m     38\u001b[0m     )\n\u001b[1;32m     40\u001b[0m \u001b[39mif\u001b[39;00m (\n\u001b[1;32m     41\u001b[0m     \u001b[39mnot\u001b[39;00m hint\u001b[39m.\u001b[39mgraph_only_specified\n\u001b[1;32m     42\u001b[0m     \u001b[39mand\u001b[39;00m \u001b[39mnot\u001b[39;00m hint\u001b[39m.\u001b[39mgraph_columns\u001b[39m.\u001b[39missubset(columns)\n\u001b[1;32m     43\u001b[0m ):\n\u001b[1;32m     44\u001b[0m     \u001b[39mraise\u001b[39;00m \u001b[39mTypeError\u001b[39;00m(\n\u001b[1;32m     45\u001b[0m         \u001b[39mf\u001b[39m\u001b[39m\"\u001b[39m\u001b[39m{\u001b[39;00margument_name\u001b[39m}\u001b[39;00m\u001b[39m is missing some graph attributes from \u001b[39m\u001b[39m{\u001b[39;00mhint\u001b[39m.\u001b[39mgraph_columns\u001b[39m}\u001b[39;00m\u001b[39m\"\u001b[39m\n\u001b[1;32m     46\u001b[0m     )\n",
      "\u001b[0;31mTypeError\u001b[0m: g graph attributes do not match required set {'feature2', 'feature1'}"
     ]
    }
   ],
   "source": [
    "@validate\n",
    "def func(g: Graph[GraphData[\"feature1\": pd.DataFrame, \"feature2\": int]]):\n",
    "    print(g)\n",
    "\n",
    "g = nx.Graph()\n",
    "func(g) # TypeError: graph does not have the required attributes"
   ]
  },
  {
   "cell_type": "code",
   "execution_count": 5,
   "metadata": {},
   "outputs": [
    {
     "name": "stdout",
     "output_type": "stream",
     "text": [
      "Graph with 0 nodes and 0 edges\n"
     ]
    }
   ],
   "source": [
    "g.graph[\"feature1\"] = pd.DataFrame()\n",
    "g.graph[\"feature2\"] = 10\n",
    "\n",
    "func(g) # Our graph contains the correct attributes"
   ]
  },
  {
   "cell_type": "markdown",
   "metadata": {},
   "source": [
    "## Typing Node Attributes"
   ]
  },
  {
   "cell_type": "code",
   "execution_count": 16,
   "metadata": {},
   "outputs": [
    {
     "ename": "TypeError",
     "evalue": "Graph g has no nodes",
     "output_type": "error",
     "traceback": [
      "\u001b[0;31m---------------------------------------------------------------------------\u001b[0m",
      "\u001b[0;31mTypeError\u001b[0m                                 Traceback (most recent call last)",
      "\u001b[1;32m/Users/arianjamasb/github/graphtype/example.ipynb Cell 9'\u001b[0m in \u001b[0;36m<cell line: 6>\u001b[0;34m()\u001b[0m\n\u001b[1;32m      <a href='vscode-notebook-cell:/Users/arianjamasb/github/graphtype/example.ipynb#ch0000015?line=2'>3</a>\u001b[0m     \u001b[39mprint\u001b[39m(g\u001b[39m.\u001b[39mnodes(data\u001b[39m=\u001b[39m\u001b[39mTrue\u001b[39;00m))\n\u001b[1;32m      <a href='vscode-notebook-cell:/Users/arianjamasb/github/graphtype/example.ipynb#ch0000015?line=4'>5</a>\u001b[0m g \u001b[39m=\u001b[39m nx\u001b[39m.\u001b[39mGraph()\n\u001b[0;32m----> <a href='vscode-notebook-cell:/Users/arianjamasb/github/graphtype/example.ipynb#ch0000015?line=5'>6</a>\u001b[0m func(g)\n",
      "File \u001b[0;32m~/github/graphtype/graphtype/__init__.py:77\u001b[0m, in \u001b[0;36mvalidate.<locals>.wrapper\u001b[0;34m(*args, **kwargs)\u001b[0m\n\u001b[1;32m     73\u001b[0m                     \u001b[39mraise\u001b[39;00m \u001b[39mTypeError\u001b[39;00m(\n\u001b[1;32m     74\u001b[0m                         \u001b[39mf\u001b[39m\u001b[39m\"\u001b[39m\u001b[39m{\u001b[39;00mdtypes[colname]\u001b[39m}\u001b[39;00m\u001b[39m is not a subtype of \u001b[39m\u001b[39m{\u001b[39;00mdt\u001b[39m}\u001b[39;00m\u001b[39m for node attribute \u001b[39m\u001b[39m{\u001b[39;00mcolname\u001b[39m}\u001b[39;00m\u001b[39m on node \u001b[39m\u001b[39m{\u001b[39;00mn\u001b[39m}\u001b[39;00m\u001b[39m\"\u001b[39m\n\u001b[1;32m     75\u001b[0m                     )\n\u001b[1;32m     76\u001b[0m     \u001b[39mif\u001b[39;00m \u001b[39mlen\u001b[39m(value\u001b[39m.\u001b[39mnodes) \u001b[39m==\u001b[39m \u001b[39m0\u001b[39m:\n\u001b[0;32m---> 77\u001b[0m         \u001b[39mraise\u001b[39;00m \u001b[39mTypeError\u001b[39;00m(\u001b[39mf\u001b[39m\u001b[39m\"\u001b[39m\u001b[39mGraph \u001b[39m\u001b[39m{\u001b[39;00margument_name\u001b[39m}\u001b[39;00m\u001b[39m has no nodes\u001b[39m\u001b[39m\"\u001b[39m)\n\u001b[1;32m     79\u001b[0m \u001b[39mif\u001b[39;00m hint\u001b[39m.\u001b[39medge:\n\u001b[1;32m     80\u001b[0m     \u001b[39mfor\u001b[39;00m u, v, d \u001b[39min\u001b[39;00m value\u001b[39m.\u001b[39medges(data\u001b[39m=\u001b[39m\u001b[39mTrue\u001b[39;00m):\n",
      "\u001b[0;31mTypeError\u001b[0m: Graph g has no nodes"
     ]
    }
   ],
   "source": [
    "@validate\n",
    "def func(g: Graph[NodeData[\"feature1\": pd.DataFrame, \"feature2\": int]]):\n",
    "    print(g.nodes(data=True))\n",
    "\n",
    "g = nx.Graph()\n",
    "func(g) # TypeError: graph has no nodes"
   ]
  },
  {
   "cell_type": "code",
   "execution_count": 17,
   "metadata": {},
   "outputs": [
    {
     "ename": "TypeError",
     "evalue": "g node attributes do not match required set {'feature2', 'feature1'} on node 1",
     "output_type": "error",
     "traceback": [
      "\u001b[0;31m---------------------------------------------------------------------------\u001b[0m",
      "\u001b[0;31mTypeError\u001b[0m                                 Traceback (most recent call last)",
      "\u001b[1;32m/Users/arianjamasb/github/graphtype/example.ipynb Cell 10'\u001b[0m in \u001b[0;36m<cell line: 2>\u001b[0;34m()\u001b[0m\n\u001b[1;32m      <a href='vscode-notebook-cell:/Users/arianjamasb/github/graphtype/example.ipynb#ch0000018?line=0'>1</a>\u001b[0m g \u001b[39m=\u001b[39m nx\u001b[39m.\u001b[39mGraph([(\u001b[39m1\u001b[39m,\u001b[39m2\u001b[39m)])\n\u001b[0;32m----> <a href='vscode-notebook-cell:/Users/arianjamasb/github/graphtype/example.ipynb#ch0000018?line=1'>2</a>\u001b[0m func(g)\n",
      "File \u001b[0;32m~/github/graphtype/graphtype/__init__.py:58\u001b[0m, in \u001b[0;36mvalidate.<locals>.wrapper\u001b[0;34m(*args, **kwargs)\u001b[0m\n\u001b[1;32m     56\u001b[0m \u001b[39mfor\u001b[39;00m n, d \u001b[39min\u001b[39;00m value\u001b[39m.\u001b[39mnodes(data\u001b[39m=\u001b[39m\u001b[39mTrue\u001b[39;00m):\n\u001b[1;32m     57\u001b[0m     \u001b[39mif\u001b[39;00m hint\u001b[39m.\u001b[39mnode_only_specified \u001b[39mand\u001b[39;00m d\u001b[39m.\u001b[39mkeys() \u001b[39m!=\u001b[39m hint\u001b[39m.\u001b[39mnode_columns:\n\u001b[0;32m---> 58\u001b[0m         \u001b[39mraise\u001b[39;00m \u001b[39mTypeError\u001b[39;00m(\n\u001b[1;32m     59\u001b[0m             \u001b[39mf\u001b[39m\u001b[39m\"\u001b[39m\u001b[39m{\u001b[39;00margument_name\u001b[39m}\u001b[39;00m\u001b[39m node attributes do not match required set \u001b[39m\u001b[39m{\u001b[39;00mhint\u001b[39m.\u001b[39mnode_columns\u001b[39m}\u001b[39;00m\u001b[39m on node \u001b[39m\u001b[39m{\u001b[39;00mn\u001b[39m}\u001b[39;00m\u001b[39m\"\u001b[39m\n\u001b[1;32m     60\u001b[0m         )\n\u001b[1;32m     62\u001b[0m     \u001b[39mif\u001b[39;00m \u001b[39mnot\u001b[39;00m hint\u001b[39m.\u001b[39mnode_only_specified \u001b[39mand\u001b[39;00m \u001b[39mnot\u001b[39;00m hint\u001b[39m.\u001b[39mcolumns\u001b[39m.\u001b[39missubset(\n\u001b[1;32m     63\u001b[0m         d\n\u001b[1;32m     64\u001b[0m     ):\n\u001b[1;32m     65\u001b[0m         \u001b[39mraise\u001b[39;00m \u001b[39mTypeError\u001b[39;00m(\n\u001b[1;32m     66\u001b[0m             \u001b[39mf\u001b[39m\u001b[39m\"\u001b[39m\u001b[39m{\u001b[39;00margument_name\u001b[39m}\u001b[39;00m\u001b[39m is missing some node attributes from \u001b[39m\u001b[39m{\u001b[39;00mhint\u001b[39m.\u001b[39mnode_columns\u001b[39m}\u001b[39;00m\u001b[39m on node \u001b[39m\u001b[39m{\u001b[39;00mn\u001b[39m}\u001b[39;00m\u001b[39m\"\u001b[39m\n\u001b[1;32m     67\u001b[0m         )\n",
      "\u001b[0;31mTypeError\u001b[0m: g node attributes do not match required set {'feature2', 'feature1'} on node 1"
     ]
    }
   ],
   "source": [
    "g = nx.Graph([(1,2)])\n",
    "func(g) # TypeError: graph nodes do not contain the required attributes"
   ]
  },
  {
   "cell_type": "code",
   "execution_count": 18,
   "metadata": {},
   "outputs": [
    {
     "name": "stdout",
     "output_type": "stream",
     "text": [
      "[(1, {'feature1': Empty DataFrame\n",
      "Columns: []\n",
      "Index: [], 'feature2': 10}), (2, {'feature1': Empty DataFrame\n",
      "Columns: []\n",
      "Index: [], 'feature2': 30})]\n"
     ]
    }
   ],
   "source": [
    "g = nx.Graph([(1,2)])\n",
    "nx.set_node_attributes(\n",
    "    g,\n",
    "    {1: {\"feature1\": pd.DataFrame(), \"feature2\": 10},\n",
    "     2: {\"feature1\": pd.DataFrame(), \"feature2\": 30}\n",
    "     }\n",
    "    )\n",
    "func(g) # Our graph contains the correct attributes"
   ]
  },
  {
   "cell_type": "markdown",
   "metadata": {},
   "source": [
    "## Typing Edge Attributes"
   ]
  },
  {
   "cell_type": "code",
   "execution_count": 19,
   "metadata": {},
   "outputs": [
    {
     "ename": "TypeError",
     "evalue": "Graph g has no edges.",
     "output_type": "error",
     "traceback": [
      "\u001b[0;31m---------------------------------------------------------------------------\u001b[0m",
      "\u001b[0;31mTypeError\u001b[0m                                 Traceback (most recent call last)",
      "\u001b[1;32m/Users/arianjamasb/github/graphtype/example.ipynb Cell 13'\u001b[0m in \u001b[0;36m<cell line: 6>\u001b[0;34m()\u001b[0m\n\u001b[1;32m      <a href='vscode-notebook-cell:/Users/arianjamasb/github/graphtype/example.ipynb#ch0000021?line=2'>3</a>\u001b[0m     \u001b[39mprint\u001b[39m(g\u001b[39m.\u001b[39medges(data\u001b[39m=\u001b[39m\u001b[39mTrue\u001b[39;00m))\n\u001b[1;32m      <a href='vscode-notebook-cell:/Users/arianjamasb/github/graphtype/example.ipynb#ch0000021?line=4'>5</a>\u001b[0m g \u001b[39m=\u001b[39m nx\u001b[39m.\u001b[39mGraph()\n\u001b[0;32m----> <a href='vscode-notebook-cell:/Users/arianjamasb/github/graphtype/example.ipynb#ch0000021?line=5'>6</a>\u001b[0m func(g)\n",
      "File \u001b[0;32m~/github/graphtype/graphtype/__init__.py:102\u001b[0m, in \u001b[0;36mvalidate.<locals>.wrapper\u001b[0;34m(*args, **kwargs)\u001b[0m\n\u001b[1;32m     98\u001b[0m                             \u001b[39mraise\u001b[39;00m \u001b[39mTypeError\u001b[39;00m(\n\u001b[1;32m     99\u001b[0m                                 \u001b[39mf\u001b[39m\u001b[39m\"\u001b[39m\u001b[39m{\u001b[39;00mdtypes[colname]\u001b[39m}\u001b[39;00m\u001b[39m is not a subtype of \u001b[39m\u001b[39m{\u001b[39;00mdt\u001b[39m}\u001b[39;00m\u001b[39m for edge attribute \u001b[39m\u001b[39m{\u001b[39;00mcolname\u001b[39m}\u001b[39;00m\u001b[39m on edge \u001b[39m\u001b[39m{\u001b[39;00mu\u001b[39m}\u001b[39;00m\u001b[39m-\u001b[39m\u001b[39m{\u001b[39;00mv\u001b[39m}\u001b[39;00m\u001b[39m\"\u001b[39m\n\u001b[1;32m    100\u001b[0m                             )\n\u001b[1;32m    101\u001b[0m             \u001b[39mif\u001b[39;00m \u001b[39mlen\u001b[39m(value\u001b[39m.\u001b[39medges) \u001b[39m==\u001b[39m \u001b[39m0\u001b[39m:\n\u001b[0;32m--> 102\u001b[0m                 \u001b[39mraise\u001b[39;00m \u001b[39mTypeError\u001b[39;00m(\u001b[39mf\u001b[39m\u001b[39m\"\u001b[39m\u001b[39mGraph \u001b[39m\u001b[39m{\u001b[39;00margument_name\u001b[39m}\u001b[39;00m\u001b[39m has no edges.\u001b[39m\u001b[39m\"\u001b[39m)\n\u001b[1;32m    103\u001b[0m \u001b[39mreturn\u001b[39;00m f(\u001b[39m*\u001b[39margs, \u001b[39m*\u001b[39m\u001b[39m*\u001b[39mkwargs)\n",
      "\u001b[0;31mTypeError\u001b[0m: Graph g has no edges."
     ]
    }
   ],
   "source": [
    "@validate\n",
    "def func(g: Graph[EdgeData[\"feature1\": float, \"feature2\": np.ndarray]]):\n",
    "    print(g.edges(data=True))\n",
    "\n",
    "g = nx.Graph()\n",
    "func(g) # TypeError: graph has no edges"
   ]
  },
  {
   "cell_type": "code",
   "execution_count": 20,
   "metadata": {},
   "outputs": [
    {
     "name": "stdout",
     "output_type": "stream",
     "text": [
      "Edges: 1\n"
     ]
    },
    {
     "ename": "TypeError",
     "evalue": "g edge atributes do not match required set {'feature2', 'feature1'} on edge 1-2",
     "output_type": "error",
     "traceback": [
      "\u001b[0;31m---------------------------------------------------------------------------\u001b[0m",
      "\u001b[0;31mTypeError\u001b[0m                                 Traceback (most recent call last)",
      "\u001b[1;32m/Users/arianjamasb/github/graphtype/example.ipynb Cell 14'\u001b[0m in \u001b[0;36m<cell line: 3>\u001b[0;34m()\u001b[0m\n\u001b[1;32m      <a href='vscode-notebook-cell:/Users/arianjamasb/github/graphtype/example.ipynb#ch0000022?line=0'>1</a>\u001b[0m g \u001b[39m=\u001b[39m nx\u001b[39m.\u001b[39mGraph([(\u001b[39m1\u001b[39m,\u001b[39m2\u001b[39m)])\n\u001b[1;32m      <a href='vscode-notebook-cell:/Users/arianjamasb/github/graphtype/example.ipynb#ch0000022?line=1'>2</a>\u001b[0m \u001b[39mprint\u001b[39m(\u001b[39mf\u001b[39m\u001b[39m\"\u001b[39m\u001b[39mEdges: \u001b[39m\u001b[39m{\u001b[39;00m\u001b[39mlen\u001b[39m(g\u001b[39m.\u001b[39medges)\u001b[39m}\u001b[39;00m\u001b[39m\"\u001b[39m)\n\u001b[0;32m----> <a href='vscode-notebook-cell:/Users/arianjamasb/github/graphtype/example.ipynb#ch0000022?line=2'>3</a>\u001b[0m func(g)\n",
      "File \u001b[0;32m~/github/graphtype/graphtype/__init__.py:82\u001b[0m, in \u001b[0;36mvalidate.<locals>.wrapper\u001b[0;34m(*args, **kwargs)\u001b[0m\n\u001b[1;32m     80\u001b[0m \u001b[39mfor\u001b[39;00m u, v, d \u001b[39min\u001b[39;00m value\u001b[39m.\u001b[39medges(data\u001b[39m=\u001b[39m\u001b[39mTrue\u001b[39;00m):\n\u001b[1;32m     81\u001b[0m     \u001b[39mif\u001b[39;00m hint\u001b[39m.\u001b[39medge_only_specified \u001b[39mand\u001b[39;00m d\u001b[39m.\u001b[39mkeys() \u001b[39m!=\u001b[39m hint\u001b[39m.\u001b[39medge_columns:\n\u001b[0;32m---> 82\u001b[0m         \u001b[39mraise\u001b[39;00m \u001b[39mTypeError\u001b[39;00m(\n\u001b[1;32m     83\u001b[0m             \u001b[39mf\u001b[39m\u001b[39m\"\u001b[39m\u001b[39m{\u001b[39;00margument_name\u001b[39m}\u001b[39;00m\u001b[39m edge atributes do not match required set \u001b[39m\u001b[39m{\u001b[39;00mhint\u001b[39m.\u001b[39medge_columns\u001b[39m}\u001b[39;00m\u001b[39m on edge \u001b[39m\u001b[39m{\u001b[39;00mu\u001b[39m}\u001b[39;00m\u001b[39m-\u001b[39m\u001b[39m{\u001b[39;00mv\u001b[39m}\u001b[39;00m\u001b[39m\"\u001b[39m\n\u001b[1;32m     84\u001b[0m         )\n\u001b[1;32m     86\u001b[0m     \u001b[39mif\u001b[39;00m (\n\u001b[1;32m     87\u001b[0m         \u001b[39mnot\u001b[39;00m hint\u001b[39m.\u001b[39medge_only_specified\n\u001b[1;32m     88\u001b[0m         \u001b[39mand\u001b[39;00m \u001b[39mnot\u001b[39;00m hint\u001b[39m.\u001b[39medge_columns\u001b[39m.\u001b[39missubset(d)\n\u001b[1;32m     89\u001b[0m     ):\n\u001b[1;32m     90\u001b[0m         \u001b[39mraise\u001b[39;00m \u001b[39mTypeError\u001b[39;00m(\n\u001b[1;32m     91\u001b[0m             \u001b[39mf\u001b[39m\u001b[39m\"\u001b[39m\u001b[39m{\u001b[39;00margument_name\u001b[39m}\u001b[39;00m\u001b[39m is missing some edge attributes from \u001b[39m\u001b[39m{\u001b[39;00mhint\u001b[39m.\u001b[39medge_columns\u001b[39m}\u001b[39;00m\u001b[39m on edge \u001b[39m\u001b[39m{\u001b[39;00mu\u001b[39m}\u001b[39;00m\u001b[39m-\u001b[39m\u001b[39m{\u001b[39;00mv\u001b[39m}\u001b[39;00m\u001b[39m\"\u001b[39m\n\u001b[1;32m     92\u001b[0m         )\n",
      "\u001b[0;31mTypeError\u001b[0m: g edge atributes do not match required set {'feature2', 'feature1'} on edge 1-2"
     ]
    }
   ],
   "source": [
    "g = nx.Graph([(1,2)])\n",
    "print(f\"Edges: {len(g.edges)}\")\n",
    "func(g) # TypeError: graph nodes do not contain the required attributes"
   ]
  },
  {
   "cell_type": "code",
   "execution_count": 21,
   "metadata": {},
   "outputs": [
    {
     "name": "stdout",
     "output_type": "stream",
     "text": [
      "[(1, 2, {'feature1': 1.0, 'feature2': array([1, 2, 3])})]\n"
     ]
    }
   ],
   "source": [
    "g = nx.Graph([(1,2)])\n",
    "nx.set_edge_attributes(g, {(1,2): {\"feature1\": 1.0, \"feature2\": np.array([1,2,3])}})\n",
    "func(g) # TypeError: graph nodes do not contain the required attributes"
   ]
  },
  {
   "cell_type": "markdown",
   "metadata": {},
   "source": [
    "## Bringing it all together"
   ]
  },
  {
   "cell_type": "code",
   "execution_count": 25,
   "metadata": {},
   "outputs": [
    {
     "name": "stdout",
     "output_type": "stream",
     "text": [
      "Graph named 'this is a graph' with 2 nodes and 1 edges\n",
      "Graph with 2 nodes and 1 edges\n"
     ]
    }
   ],
   "source": [
    "@validate\n",
    "def func(g: Graph[NodeData[\"feature1\": pd.DataFrame, \"feature2\": int],\n",
    "                  EdgeData[\"length\": float, \"counts\": np.ndarray],\n",
    "                  GraphData[\"name\": str]],\n",
    "         h: Graph[NodeData[\"feature1\": pd.DataFrame, \"feature2\": int]],\n",
    "         ):\n",
    "    print(g)\n",
    "    print(h)\n",
    "\n",
    "g = nx.Graph([(1,2)])\n",
    "nx.set_node_attributes(g, {1: {\"feature1\": pd.DataFrame(), \"feature2\": 10}, 2: {\"feature1\": pd.DataFrame(), \"feature2\": 30}})\n",
    "nx.set_edge_attributes(g, {(1,2): {\"length\": 1.0, \"counts\": np.array([1,2,3])}})\n",
    "g.graph[\"name\"] = \"this is a graph\"\n",
    "\n",
    "h = nx.Graph([(3,4)])\n",
    "nx.set_node_attributes(h, {3: {\"feature1\": pd.DataFrame(), \"feature2\": 10}, 4: {\"feature1\": pd.DataFrame(), \"feature2\": 30}})\n",
    "\n",
    "func(g, h)"
   ]
  }
 ],
 "metadata": {
  "kernelspec": {
   "display_name": "Python 3.8.12 ('graphein-dev')",
   "language": "python",
   "name": "python3"
  },
  "language_info": {
   "codemirror_mode": {
    "name": "ipython",
    "version": 3
   },
   "file_extension": ".py",
   "mimetype": "text/x-python",
   "name": "python",
   "nbconvert_exporter": "python",
   "pygments_lexer": "ipython3",
   "version": "3.8.12"
  },
  "orig_nbformat": 4,
  "vscode": {
   "interpreter": {
    "hash": "4f5fd396ed8d456eed2ea8c72c80d20706288275b1d4af8c307f8cff23a3d7cd"
   }
  }
 },
 "nbformat": 4,
 "nbformat_minor": 2
}
